{
 "cells": [
  {
   "cell_type": "code",
   "execution_count": 2,
   "metadata": {},
   "outputs": [],
   "source": [
    "import numpy as np\n",
    "import collections\n",
    "Docs = [\"the new home has been saled on top forecasts\",\"the home sales rise in july\",\"there is an increase in home sales in july\",\"july encounter a new home sales rise\"]"
   ]
  },
  {
   "cell_type": "code",
   "execution_count": 13,
   "metadata": {},
   "outputs": [],
   "source": [
    "def counter(phrase):\n",
    "    c = collections.Counter(phrase.split(\" \"))\n",
    "    return c"
   ]
  },
  {
   "cell_type": "code",
   "execution_count": 14,
   "metadata": {},
   "outputs": [
    {
     "name": "stdout",
     "output_type": "stream",
     "text": [
      "Counter({'the': 1, 'new': 1, 'home': 1, 'has': 1, 'been': 1, 'saled': 1, 'on': 1, 'top': 1, 'forecasts': 1})\n"
     ]
    }
   ],
   "source": [
    "print(counter(Docs[0]))"
   ]
  },
  {
   "cell_type": "code",
   "execution_count": 39,
   "metadata": {},
   "outputs": [],
   "source": [
    "def create_index(ens_docs):\n",
    "    all_word = set()\n",
    "    for d in ens_docs:\n",
    "        for m in d.split(\" \"):\n",
    "            all_word.add(m)\n",
    "    index_inverse = []\n",
    "    index = [ counter(d) for d in ens_docs]\n",
    "    for w in all_word:\n",
    "        tmp=[]\n",
    "        for doc in index :\n",
    "            tmp.append(doc[w])\n",
    "        index_inverse.append([w,tmp])\n",
    "    print(index_inverse)\n",
    "    return index"
   ]
  },
  {
   "cell_type": "code",
   "execution_count": 40,
   "metadata": {},
   "outputs": [
    {
     "name": "stdout",
     "output_type": "stream",
     "text": [
      "[['encounter', [0, 0, 0, 1]], ['an', [0, 0, 1, 0]], ['july', [0, 1, 1, 1]], ['sales', [0, 1, 1, 1]], ['forecasts', [1, 0, 0, 0]], ['new', [1, 0, 0, 1]], ['is', [0, 0, 1, 0]], ['rise', [0, 1, 0, 1]], ['there', [0, 0, 1, 0]], ['increase', [0, 0, 1, 0]], ['a', [0, 0, 0, 1]], ['been', [1, 0, 0, 0]], ['the', [1, 1, 0, 0]], ['top', [1, 0, 0, 0]], ['has', [1, 0, 0, 0]], ['in', [0, 1, 2, 0]], ['on', [1, 0, 0, 0]], ['home', [1, 1, 1, 1]], ['saled', [1, 0, 0, 0]]]\n",
      "[Counter({'the': 1, 'new': 1, 'home': 1, 'has': 1, 'been': 1, 'saled': 1, 'on': 1, 'top': 1, 'forecasts': 1}), Counter({'the': 1, 'home': 1, 'sales': 1, 'rise': 1, 'in': 1, 'july': 1}), Counter({'in': 2, 'there': 1, 'is': 1, 'an': 1, 'increase': 1, 'home': 1, 'sales': 1, 'july': 1}), Counter({'july': 1, 'encounter': 1, 'a': 1, 'new': 1, 'home': 1, 'sales': 1, 'rise': 1})]\n"
     ]
    }
   ],
   "source": [
    "print(create_index(Docs))"
   ]
  },
  {
   "cell_type": "code",
   "execution_count": null,
   "metadata": {},
   "outputs": [],
   "source": [
    "def tf_idf():\n",
    "    log(nb_de_doc_corpus/nb_doc_ou_ti_apparait)    "
   ]
  }
 ],
 "metadata": {
  "kernelspec": {
   "display_name": "Python 3",
   "language": "python",
   "name": "python3"
  },
  "language_info": {
   "codemirror_mode": {
    "name": "ipython",
    "version": 3
   },
   "file_extension": ".py",
   "mimetype": "text/x-python",
   "name": "python",
   "nbconvert_exporter": "python",
   "pygments_lexer": "ipython3",
   "version": "3.6.7"
  }
 },
 "nbformat": 4,
 "nbformat_minor": 2
}
